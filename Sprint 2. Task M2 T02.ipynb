{
 "cells": [
  {
   "cell_type": "markdown",
   "id": "14656aae",
   "metadata": {},
   "source": [
    "# Mustafa Habibi"
   ]
  },
  {
   "cell_type": "markdown",
   "id": "e1004b6d",
   "metadata": {},
   "source": [
    "## Exercise 1\n",
    "The exercise consists of creating a program that ranks you a numerical variable based on the Fail/Pass/Notable/Excellent scale.\n",
    "\n",
    "Remember that Fail < 5, Pass > 5 and < 7, Notable > 7 and < 9 and Excellent > 9."
   ]
  },
  {
   "cell_type": "code",
   "execution_count": 118,
   "id": "cca476ad",
   "metadata": {},
   "outputs": [
    {
     "data": {
      "text/plain": [
       "'pass'"
      ]
     },
     "execution_count": 118,
     "metadata": {},
     "output_type": "execute_result"
    }
   ],
   "source": [
    "def rank_grade(grade):\n",
    "    \n",
    "    if grade < 5:\n",
    "        return 'Fail'\n",
    "    \n",
    "    elif grade < 7:\n",
    "        return 'pass'\n",
    "    \n",
    "    elif grade < 9:\n",
    "        return 'Notable'\n",
    "    \n",
    "    else:\n",
    "        return 'Excellent'\n",
    "rank_grade(6)"
   ]
  },
  {
   "cell_type": "markdown",
   "id": "1fc62099",
   "metadata": {},
   "source": [
    "## Exercise 2\n",
    "Using the following tutorial, create a program that prompts you for two numbers. It should show you a message saying if the first one is bigger, the second one is bigger or they are equal."
   ]
  },
  {
   "cell_type": "code",
   "execution_count": 91,
   "id": "e73d500e",
   "metadata": {},
   "outputs": [
    {
     "data": {
      "text/plain": [
       "'a is greather than b'"
      ]
     },
     "execution_count": 91,
     "metadata": {},
     "output_type": "execute_result"
    }
   ],
   "source": [
    "def my_numbers(a,b):\n",
    "    if num1>num2:\n",
    "        return 'a is greather than b'\n",
    "    elif num1<num2:\n",
    "        return 'a is smaller than b'\n",
    "    else:\n",
    "        return 'a is equal to b'\n",
    "num1=101\n",
    "num2=100\n",
    "my_numbers(num1,num2)\n",
    "    "
   ]
  },
  {
   "cell_type": "markdown",
   "id": "9607907f",
   "metadata": {},
   "source": [
    "## Exercise 3\n",
    "Create a program that asks for your name, and asks for a number. If the number is 0, it should display an error message. Otherwise, it should show the name repeated as many times as the number. For example, \"John John John\"."
   ]
  },
  {
   "cell_type": "code",
   "execution_count": 101,
   "id": "cb957309",
   "metadata": {},
   "outputs": [
    {
     "name": "stdout",
     "output_type": "stream",
     "text": [
      "What is your name? Mustafa\n",
      "Enter a number: 8\n",
      "Mustafa Mustafa Mustafa Mustafa Mustafa Mustafa Mustafa Mustafa \n"
     ]
    }
   ],
   "source": [
    "def num_name(name, numbers):\n",
    "    name = input('What is your name? ')\n",
    "    number = int(input('Enter a number: '))\n",
    "    if number <= 0:\n",
    "        print(\"Error: the number cannot be 0 and lower.\")\n",
    "    else:\n",
    "        print((name + \" \") * number)\n",
    "        \n",
    "num_name(a,b)\n"
   ]
  },
  {
   "cell_type": "markdown",
   "id": "f0818c18",
   "metadata": {},
   "source": [
    "## Exercise 4\n",
    "Create a program that, given any list, tells you whether it is symmetric or not. If it is, tell you how many elements it has."
   ]
  },
  {
   "cell_type": "code",
   "execution_count": 32,
   "id": "d740dd44",
   "metadata": {},
   "outputs": [
    {
     "name": "stdout",
     "output_type": "stream",
     "text": [
      "The list is symmetric with 12 elements.\n"
     ]
    }
   ],
   "source": [
    "def mlist(a):\n",
    "    reversed_list = a.copy()\n",
    "    reversed_list.reverse()\n",
    "    if a == reversed_list:\n",
    "        print('The list is symmetric with {} elements.'.format(len(a)))\n",
    "    else:\n",
    "        print('The list is not symmetric.')\n",
    "\n",
    "mlist_input = [2,3,4,5,6,7,7,6,5,4,3,2]\n",
    "mlist(mlist_input)\n"
   ]
  },
  {
   "cell_type": "markdown",
   "id": "a268f262",
   "metadata": {},
   "source": [
    "## Exercise 5\n",
    "Create a program that, given a list, tells you how many numbers match its position. For example [3,4,2,0,2,3,6] 2 and 6 match."
   ]
  },
  {
   "cell_type": "code",
   "execution_count": 33,
   "id": "366b9ff1",
   "metadata": {},
   "outputs": [
    {
     "name": "stdout",
     "output_type": "stream",
     "text": [
      "there are  5 numbers that matched thier positions.\n"
     ]
    }
   ],
   "source": [
    "def matched_numbers(numbers):\n",
    "    count=1\n",
    "    for a, num in enumerate (numbers):\n",
    "        if a==num:\n",
    "            count+=1\n",
    "    return count\n",
    "numbers= [8,1,4,3,3,2,1,7,7,9]\n",
    "matching_count= matched_numbers(numbers)\n",
    "print ('there are ', matching_count, 'numbers that matched thier positions.' )\n",
    "\n",
    "    \n",
    "    "
   ]
  },
  {
   "cell_type": "code",
   "execution_count": null,
   "id": "58f5a038",
   "metadata": {},
   "outputs": [],
   "source": []
  }
 ],
 "metadata": {
  "kernelspec": {
   "display_name": "Python 3 (ipykernel)",
   "language": "python",
   "name": "python3"
  },
  "language_info": {
   "codemirror_mode": {
    "name": "ipython",
    "version": 3
   },
   "file_extension": ".py",
   "mimetype": "text/x-python",
   "name": "python",
   "nbconvert_exporter": "python",
   "pygments_lexer": "ipython3",
   "version": "3.9.13"
  }
 },
 "nbformat": 4,
 "nbformat_minor": 5
}
